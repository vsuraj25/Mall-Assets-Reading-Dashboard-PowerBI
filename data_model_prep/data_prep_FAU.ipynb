{
 "cells": [
  {
   "cell_type": "code",
   "execution_count": 6,
   "metadata": {},
   "outputs": [],
   "source": [
    "import pandas as pd\n",
    "import numpy as np\n",
    "from numpy import random"
   ]
  },
  {
   "cell_type": "code",
   "execution_count": 5,
   "metadata": {},
   "outputs": [],
   "source": [
    "datelist = pd.date_range(start='2021-01-01', end = '2022-12-31').tolist()"
   ]
  },
  {
   "cell_type": "code",
   "execution_count": 6,
   "metadata": {},
   "outputs": [],
   "source": [
    "data = pd.DataFrame(datelist, columns=['Date'])"
   ]
  },
  {
   "cell_type": "code",
   "execution_count": 7,
   "metadata": {},
   "outputs": [
    {
     "data": {
      "text/html": [
       "<div>\n",
       "<style scoped>\n",
       "    .dataframe tbody tr th:only-of-type {\n",
       "        vertical-align: middle;\n",
       "    }\n",
       "\n",
       "    .dataframe tbody tr th {\n",
       "        vertical-align: top;\n",
       "    }\n",
       "\n",
       "    .dataframe thead th {\n",
       "        text-align: right;\n",
       "    }\n",
       "</style>\n",
       "<table border=\"1\" class=\"dataframe\">\n",
       "  <thead>\n",
       "    <tr style=\"text-align: right;\">\n",
       "      <th></th>\n",
       "      <th>Date</th>\n",
       "    </tr>\n",
       "  </thead>\n",
       "  <tbody>\n",
       "    <tr>\n",
       "      <th>0</th>\n",
       "      <td>2021-01-01</td>\n",
       "    </tr>\n",
       "    <tr>\n",
       "      <th>1</th>\n",
       "      <td>2021-01-02</td>\n",
       "    </tr>\n",
       "    <tr>\n",
       "      <th>2</th>\n",
       "      <td>2021-01-03</td>\n",
       "    </tr>\n",
       "    <tr>\n",
       "      <th>3</th>\n",
       "      <td>2021-01-04</td>\n",
       "    </tr>\n",
       "    <tr>\n",
       "      <th>4</th>\n",
       "      <td>2021-01-05</td>\n",
       "    </tr>\n",
       "  </tbody>\n",
       "</table>\n",
       "</div>"
      ],
      "text/plain": [
       "        Date\n",
       "0 2021-01-01\n",
       "1 2021-01-02\n",
       "2 2021-01-03\n",
       "3 2021-01-04\n",
       "4 2021-01-05"
      ]
     },
     "execution_count": 7,
     "metadata": {},
     "output_type": "execute_result"
    }
   ],
   "source": [
    "data.head()"
   ]
  },
  {
   "cell_type": "code",
   "execution_count": 10,
   "metadata": {},
   "outputs": [
    {
     "data": {
      "text/plain": [
       "1"
      ]
     },
     "execution_count": 10,
     "metadata": {},
     "output_type": "execute_result"
    }
   ],
   "source": [
    "data['Date']"
   ]
  },
  {
   "cell_type": "markdown",
   "metadata": {},
   "source": [
    "### System ON and OFF Command"
   ]
  },
  {
   "cell_type": "code",
   "execution_count": 11,
   "metadata": {},
   "outputs": [],
   "source": [
    "data['On_Off_Cmd'] = 'ON'"
   ]
  },
  {
   "cell_type": "code",
   "execution_count": 12,
   "metadata": {},
   "outputs": [
    {
     "data": {
      "text/html": [
       "<div>\n",
       "<style scoped>\n",
       "    .dataframe tbody tr th:only-of-type {\n",
       "        vertical-align: middle;\n",
       "    }\n",
       "\n",
       "    .dataframe tbody tr th {\n",
       "        vertical-align: top;\n",
       "    }\n",
       "\n",
       "    .dataframe thead th {\n",
       "        text-align: right;\n",
       "    }\n",
       "</style>\n",
       "<table border=\"1\" class=\"dataframe\">\n",
       "  <thead>\n",
       "    <tr style=\"text-align: right;\">\n",
       "      <th></th>\n",
       "      <th>Date</th>\n",
       "      <th>On_Off_Cmd</th>\n",
       "    </tr>\n",
       "  </thead>\n",
       "  <tbody>\n",
       "    <tr>\n",
       "      <th>0</th>\n",
       "      <td>2021-01-01</td>\n",
       "      <td>ON</td>\n",
       "    </tr>\n",
       "    <tr>\n",
       "      <th>1</th>\n",
       "      <td>2021-01-02</td>\n",
       "      <td>ON</td>\n",
       "    </tr>\n",
       "    <tr>\n",
       "      <th>2</th>\n",
       "      <td>2021-01-03</td>\n",
       "      <td>ON</td>\n",
       "    </tr>\n",
       "    <tr>\n",
       "      <th>3</th>\n",
       "      <td>2021-01-04</td>\n",
       "      <td>ON</td>\n",
       "    </tr>\n",
       "    <tr>\n",
       "      <th>4</th>\n",
       "      <td>2021-01-05</td>\n",
       "      <td>ON</td>\n",
       "    </tr>\n",
       "  </tbody>\n",
       "</table>\n",
       "</div>"
      ],
      "text/plain": [
       "        Date On_Off_Cmd\n",
       "0 2021-01-01         ON\n",
       "1 2021-01-02         ON\n",
       "2 2021-01-03         ON\n",
       "3 2021-01-04         ON\n",
       "4 2021-01-05         ON"
      ]
     },
     "execution_count": 12,
     "metadata": {},
     "output_type": "execute_result"
    }
   ],
   "source": [
    "data.head()"
   ]
  },
  {
   "cell_type": "markdown",
   "metadata": {},
   "source": [
    "### Mode(Auto/Manual) Status"
   ]
  },
  {
   "cell_type": "code",
   "execution_count": 15,
   "metadata": {},
   "outputs": [],
   "source": [
    "data['A/M_Status'] = random.choice(['Auto', 'Manual'], p = [0.6, 0.4])"
   ]
  },
  {
   "cell_type": "code",
   "execution_count": 16,
   "metadata": {},
   "outputs": [
    {
     "data": {
      "text/html": [
       "<div>\n",
       "<style scoped>\n",
       "    .dataframe tbody tr th:only-of-type {\n",
       "        vertical-align: middle;\n",
       "    }\n",
       "\n",
       "    .dataframe tbody tr th {\n",
       "        vertical-align: top;\n",
       "    }\n",
       "\n",
       "    .dataframe thead th {\n",
       "        text-align: right;\n",
       "    }\n",
       "</style>\n",
       "<table border=\"1\" class=\"dataframe\">\n",
       "  <thead>\n",
       "    <tr style=\"text-align: right;\">\n",
       "      <th></th>\n",
       "      <th>Date</th>\n",
       "      <th>On_Off_Cmd</th>\n",
       "      <th>A/M_Status</th>\n",
       "    </tr>\n",
       "  </thead>\n",
       "  <tbody>\n",
       "    <tr>\n",
       "      <th>0</th>\n",
       "      <td>2021-01-01</td>\n",
       "      <td>ON</td>\n",
       "      <td>Auto</td>\n",
       "    </tr>\n",
       "    <tr>\n",
       "      <th>1</th>\n",
       "      <td>2021-01-02</td>\n",
       "      <td>ON</td>\n",
       "      <td>Auto</td>\n",
       "    </tr>\n",
       "    <tr>\n",
       "      <th>2</th>\n",
       "      <td>2021-01-03</td>\n",
       "      <td>ON</td>\n",
       "      <td>Auto</td>\n",
       "    </tr>\n",
       "    <tr>\n",
       "      <th>3</th>\n",
       "      <td>2021-01-04</td>\n",
       "      <td>ON</td>\n",
       "      <td>Auto</td>\n",
       "    </tr>\n",
       "    <tr>\n",
       "      <th>4</th>\n",
       "      <td>2021-01-05</td>\n",
       "      <td>ON</td>\n",
       "      <td>Auto</td>\n",
       "    </tr>\n",
       "  </tbody>\n",
       "</table>\n",
       "</div>"
      ],
      "text/plain": [
       "        Date On_Off_Cmd A/M_Status\n",
       "0 2021-01-01         ON       Auto\n",
       "1 2021-01-02         ON       Auto\n",
       "2 2021-01-03         ON       Auto\n",
       "3 2021-01-04         ON       Auto\n",
       "4 2021-01-05         ON       Auto"
      ]
     },
     "execution_count": 16,
     "metadata": {},
     "output_type": "execute_result"
    }
   ],
   "source": [
    "data.head()"
   ]
  },
  {
   "cell_type": "markdown",
   "metadata": {},
   "source": [
    "### Trip Status"
   ]
  },
  {
   "cell_type": "code",
   "execution_count": 17,
   "metadata": {},
   "outputs": [],
   "source": [
    "data['Trip_Status'] = random.choice(['Normal', 'Trip'], p = [0.85, 0.15])"
   ]
  },
  {
   "cell_type": "code",
   "execution_count": 18,
   "metadata": {},
   "outputs": [
    {
     "data": {
      "text/html": [
       "<div>\n",
       "<style scoped>\n",
       "    .dataframe tbody tr th:only-of-type {\n",
       "        vertical-align: middle;\n",
       "    }\n",
       "\n",
       "    .dataframe tbody tr th {\n",
       "        vertical-align: top;\n",
       "    }\n",
       "\n",
       "    .dataframe thead th {\n",
       "        text-align: right;\n",
       "    }\n",
       "</style>\n",
       "<table border=\"1\" class=\"dataframe\">\n",
       "  <thead>\n",
       "    <tr style=\"text-align: right;\">\n",
       "      <th></th>\n",
       "      <th>Date</th>\n",
       "      <th>On_Off_Cmd</th>\n",
       "      <th>A/M_Status</th>\n",
       "      <th>Trip_Status</th>\n",
       "    </tr>\n",
       "  </thead>\n",
       "  <tbody>\n",
       "    <tr>\n",
       "      <th>0</th>\n",
       "      <td>2021-01-01</td>\n",
       "      <td>ON</td>\n",
       "      <td>Auto</td>\n",
       "      <td>Trip</td>\n",
       "    </tr>\n",
       "    <tr>\n",
       "      <th>1</th>\n",
       "      <td>2021-01-02</td>\n",
       "      <td>ON</td>\n",
       "      <td>Auto</td>\n",
       "      <td>Trip</td>\n",
       "    </tr>\n",
       "    <tr>\n",
       "      <th>2</th>\n",
       "      <td>2021-01-03</td>\n",
       "      <td>ON</td>\n",
       "      <td>Auto</td>\n",
       "      <td>Trip</td>\n",
       "    </tr>\n",
       "    <tr>\n",
       "      <th>3</th>\n",
       "      <td>2021-01-04</td>\n",
       "      <td>ON</td>\n",
       "      <td>Auto</td>\n",
       "      <td>Trip</td>\n",
       "    </tr>\n",
       "    <tr>\n",
       "      <th>4</th>\n",
       "      <td>2021-01-05</td>\n",
       "      <td>ON</td>\n",
       "      <td>Auto</td>\n",
       "      <td>Trip</td>\n",
       "    </tr>\n",
       "  </tbody>\n",
       "</table>\n",
       "</div>"
      ],
      "text/plain": [
       "        Date On_Off_Cmd A/M_Status Trip_Status\n",
       "0 2021-01-01         ON       Auto        Trip\n",
       "1 2021-01-02         ON       Auto        Trip\n",
       "2 2021-01-03         ON       Auto        Trip\n",
       "3 2021-01-04         ON       Auto        Trip\n",
       "4 2021-01-05         ON       Auto        Trip"
      ]
     },
     "execution_count": 18,
     "metadata": {},
     "output_type": "execute_result"
    }
   ],
   "source": [
    "data.head()"
   ]
  },
  {
   "cell_type": "markdown",
   "metadata": {},
   "source": [
    "### Run Status\n",
    "-  Equal to the On Off Commnad"
   ]
  },
  {
   "cell_type": "code",
   "execution_count": 19,
   "metadata": {},
   "outputs": [],
   "source": [
    "data['Run_Status'] = random.choice(['ON', 'OFF'], p = [0.9, 0.1])"
   ]
  },
  {
   "cell_type": "code",
   "execution_count": 20,
   "metadata": {},
   "outputs": [
    {
     "data": {
      "text/html": [
       "<div>\n",
       "<style scoped>\n",
       "    .dataframe tbody tr th:only-of-type {\n",
       "        vertical-align: middle;\n",
       "    }\n",
       "\n",
       "    .dataframe tbody tr th {\n",
       "        vertical-align: top;\n",
       "    }\n",
       "\n",
       "    .dataframe thead th {\n",
       "        text-align: right;\n",
       "    }\n",
       "</style>\n",
       "<table border=\"1\" class=\"dataframe\">\n",
       "  <thead>\n",
       "    <tr style=\"text-align: right;\">\n",
       "      <th></th>\n",
       "      <th>Date</th>\n",
       "      <th>On_Off_Cmd</th>\n",
       "      <th>A/M_Status</th>\n",
       "      <th>Trip_Status</th>\n",
       "      <th>Run_Status</th>\n",
       "    </tr>\n",
       "  </thead>\n",
       "  <tbody>\n",
       "    <tr>\n",
       "      <th>0</th>\n",
       "      <td>2021-01-01</td>\n",
       "      <td>ON</td>\n",
       "      <td>Auto</td>\n",
       "      <td>Trip</td>\n",
       "      <td>ON</td>\n",
       "    </tr>\n",
       "    <tr>\n",
       "      <th>1</th>\n",
       "      <td>2021-01-02</td>\n",
       "      <td>ON</td>\n",
       "      <td>Auto</td>\n",
       "      <td>Trip</td>\n",
       "      <td>ON</td>\n",
       "    </tr>\n",
       "    <tr>\n",
       "      <th>2</th>\n",
       "      <td>2021-01-03</td>\n",
       "      <td>ON</td>\n",
       "      <td>Auto</td>\n",
       "      <td>Trip</td>\n",
       "      <td>ON</td>\n",
       "    </tr>\n",
       "    <tr>\n",
       "      <th>3</th>\n",
       "      <td>2021-01-04</td>\n",
       "      <td>ON</td>\n",
       "      <td>Auto</td>\n",
       "      <td>Trip</td>\n",
       "      <td>ON</td>\n",
       "    </tr>\n",
       "    <tr>\n",
       "      <th>4</th>\n",
       "      <td>2021-01-05</td>\n",
       "      <td>ON</td>\n",
       "      <td>Auto</td>\n",
       "      <td>Trip</td>\n",
       "      <td>ON</td>\n",
       "    </tr>\n",
       "  </tbody>\n",
       "</table>\n",
       "</div>"
      ],
      "text/plain": [
       "        Date On_Off_Cmd A/M_Status Trip_Status Run_Status\n",
       "0 2021-01-01         ON       Auto        Trip         ON\n",
       "1 2021-01-02         ON       Auto        Trip         ON\n",
       "2 2021-01-03         ON       Auto        Trip         ON\n",
       "3 2021-01-04         ON       Auto        Trip         ON\n",
       "4 2021-01-05         ON       Auto        Trip         ON"
      ]
     },
     "execution_count": 20,
     "metadata": {},
     "output_type": "execute_result"
    }
   ],
   "source": [
    "data.head()"
   ]
  },
  {
   "cell_type": "markdown",
   "metadata": {},
   "source": [
    "### Schedule Mode"
   ]
  },
  {
   "cell_type": "code",
   "execution_count": 21,
   "metadata": {},
   "outputs": [],
   "source": [
    "def filter_schedule(run_status):\n",
    "    if run_status == \"ON\":\n",
    "        return random.choice(['Off', 'Scheduled'], p =  [0.8, 0.2])\n",
    "    else:\n",
    "        return 'Off'"
   ]
  },
  {
   "cell_type": "code",
   "execution_count": 22,
   "metadata": {},
   "outputs": [],
   "source": [
    "data['Schedule_Mode'] = data['Run_Status'].apply(filter_schedule)"
   ]
  },
  {
   "cell_type": "code",
   "execution_count": 23,
   "metadata": {},
   "outputs": [
    {
     "data": {
      "text/html": [
       "<div>\n",
       "<style scoped>\n",
       "    .dataframe tbody tr th:only-of-type {\n",
       "        vertical-align: middle;\n",
       "    }\n",
       "\n",
       "    .dataframe tbody tr th {\n",
       "        vertical-align: top;\n",
       "    }\n",
       "\n",
       "    .dataframe thead th {\n",
       "        text-align: right;\n",
       "    }\n",
       "</style>\n",
       "<table border=\"1\" class=\"dataframe\">\n",
       "  <thead>\n",
       "    <tr style=\"text-align: right;\">\n",
       "      <th></th>\n",
       "      <th>Date</th>\n",
       "      <th>On_Off_Cmd</th>\n",
       "      <th>A/M_Status</th>\n",
       "      <th>Trip_Status</th>\n",
       "      <th>Run_Status</th>\n",
       "      <th>Schedule_Mode</th>\n",
       "    </tr>\n",
       "  </thead>\n",
       "  <tbody>\n",
       "    <tr>\n",
       "      <th>0</th>\n",
       "      <td>2021-01-01</td>\n",
       "      <td>ON</td>\n",
       "      <td>Auto</td>\n",
       "      <td>Trip</td>\n",
       "      <td>ON</td>\n",
       "      <td>Off</td>\n",
       "    </tr>\n",
       "    <tr>\n",
       "      <th>1</th>\n",
       "      <td>2021-01-02</td>\n",
       "      <td>ON</td>\n",
       "      <td>Auto</td>\n",
       "      <td>Trip</td>\n",
       "      <td>ON</td>\n",
       "      <td>Off</td>\n",
       "    </tr>\n",
       "    <tr>\n",
       "      <th>2</th>\n",
       "      <td>2021-01-03</td>\n",
       "      <td>ON</td>\n",
       "      <td>Auto</td>\n",
       "      <td>Trip</td>\n",
       "      <td>ON</td>\n",
       "      <td>Off</td>\n",
       "    </tr>\n",
       "    <tr>\n",
       "      <th>3</th>\n",
       "      <td>2021-01-04</td>\n",
       "      <td>ON</td>\n",
       "      <td>Auto</td>\n",
       "      <td>Trip</td>\n",
       "      <td>ON</td>\n",
       "      <td>Off</td>\n",
       "    </tr>\n",
       "    <tr>\n",
       "      <th>4</th>\n",
       "      <td>2021-01-05</td>\n",
       "      <td>ON</td>\n",
       "      <td>Auto</td>\n",
       "      <td>Trip</td>\n",
       "      <td>ON</td>\n",
       "      <td>Scheduled</td>\n",
       "    </tr>\n",
       "  </tbody>\n",
       "</table>\n",
       "</div>"
      ],
      "text/plain": [
       "        Date On_Off_Cmd A/M_Status Trip_Status Run_Status Schedule_Mode\n",
       "0 2021-01-01         ON       Auto        Trip         ON           Off\n",
       "1 2021-01-02         ON       Auto        Trip         ON           Off\n",
       "2 2021-01-03         ON       Auto        Trip         ON           Off\n",
       "3 2021-01-04         ON       Auto        Trip         ON           Off\n",
       "4 2021-01-05         ON       Auto        Trip         ON     Scheduled"
      ]
     },
     "execution_count": 23,
     "metadata": {},
     "output_type": "execute_result"
    }
   ],
   "source": [
    "data.head()"
   ]
  },
  {
   "cell_type": "markdown",
   "metadata": {},
   "source": [
    "### Time Schedule\n",
    "- If the system is scheduled, it can be only scheduled based on time"
   ]
  },
  {
   "cell_type": "code",
   "execution_count": 24,
   "metadata": {},
   "outputs": [],
   "source": [
    "data['Time_Schedule'] = data['Schedule_Mode']"
   ]
  },
  {
   "cell_type": "code",
   "execution_count": 25,
   "metadata": {},
   "outputs": [
    {
     "data": {
      "text/html": [
       "<div>\n",
       "<style scoped>\n",
       "    .dataframe tbody tr th:only-of-type {\n",
       "        vertical-align: middle;\n",
       "    }\n",
       "\n",
       "    .dataframe tbody tr th {\n",
       "        vertical-align: top;\n",
       "    }\n",
       "\n",
       "    .dataframe thead th {\n",
       "        text-align: right;\n",
       "    }\n",
       "</style>\n",
       "<table border=\"1\" class=\"dataframe\">\n",
       "  <thead>\n",
       "    <tr style=\"text-align: right;\">\n",
       "      <th></th>\n",
       "      <th>Date</th>\n",
       "      <th>On_Off_Cmd</th>\n",
       "      <th>A/M_Status</th>\n",
       "      <th>Trip_Status</th>\n",
       "      <th>Run_Status</th>\n",
       "      <th>Schedule_Mode</th>\n",
       "      <th>Time_Schedule</th>\n",
       "    </tr>\n",
       "  </thead>\n",
       "  <tbody>\n",
       "    <tr>\n",
       "      <th>0</th>\n",
       "      <td>2021-01-01</td>\n",
       "      <td>ON</td>\n",
       "      <td>Auto</td>\n",
       "      <td>Trip</td>\n",
       "      <td>ON</td>\n",
       "      <td>Off</td>\n",
       "      <td>Off</td>\n",
       "    </tr>\n",
       "    <tr>\n",
       "      <th>1</th>\n",
       "      <td>2021-01-02</td>\n",
       "      <td>ON</td>\n",
       "      <td>Auto</td>\n",
       "      <td>Trip</td>\n",
       "      <td>ON</td>\n",
       "      <td>Off</td>\n",
       "      <td>Off</td>\n",
       "    </tr>\n",
       "    <tr>\n",
       "      <th>2</th>\n",
       "      <td>2021-01-03</td>\n",
       "      <td>ON</td>\n",
       "      <td>Auto</td>\n",
       "      <td>Trip</td>\n",
       "      <td>ON</td>\n",
       "      <td>Off</td>\n",
       "      <td>Off</td>\n",
       "    </tr>\n",
       "    <tr>\n",
       "      <th>3</th>\n",
       "      <td>2021-01-04</td>\n",
       "      <td>ON</td>\n",
       "      <td>Auto</td>\n",
       "      <td>Trip</td>\n",
       "      <td>ON</td>\n",
       "      <td>Off</td>\n",
       "      <td>Off</td>\n",
       "    </tr>\n",
       "    <tr>\n",
       "      <th>4</th>\n",
       "      <td>2021-01-05</td>\n",
       "      <td>ON</td>\n",
       "      <td>Auto</td>\n",
       "      <td>Trip</td>\n",
       "      <td>ON</td>\n",
       "      <td>Scheduled</td>\n",
       "      <td>Scheduled</td>\n",
       "    </tr>\n",
       "  </tbody>\n",
       "</table>\n",
       "</div>"
      ],
      "text/plain": [
       "        Date On_Off_Cmd A/M_Status Trip_Status Run_Status Schedule_Mode  \\\n",
       "0 2021-01-01         ON       Auto        Trip         ON           Off   \n",
       "1 2021-01-02         ON       Auto        Trip         ON           Off   \n",
       "2 2021-01-03         ON       Auto        Trip         ON           Off   \n",
       "3 2021-01-04         ON       Auto        Trip         ON           Off   \n",
       "4 2021-01-05         ON       Auto        Trip         ON     Scheduled   \n",
       "\n",
       "  Time_Schedule  \n",
       "0           Off  \n",
       "1           Off  \n",
       "2           Off  \n",
       "3           Off  \n",
       "4     Scheduled  "
      ]
     },
     "execution_count": 25,
     "metadata": {},
     "output_type": "execute_result"
    }
   ],
   "source": [
    "data.head()"
   ]
  },
  {
   "cell_type": "code",
   "execution_count": 7,
   "metadata": {},
   "outputs": [],
   "source": [
    "def create_data_FAU():\n",
    "\n",
    "    def filter_schedule(run_status):\n",
    "        if run_status == \"ON\":\n",
    "            return random.choice(['Off', 'Scheduled'], p =  [0.8, 0.2])\n",
    "        else:\n",
    "            return 'Off'\n",
    "    \n",
    "    def get_month(date):\n",
    "        return date.month\n",
    "    \n",
    "    def is_weekend(date):\n",
    "        if date.day_name() == 'Saturday' or date.day_name() == 'Sunday':\n",
    "            return 1\n",
    "        else:\n",
    "            return 0\n",
    "        \n",
    "    def get_season(date):\n",
    "        if date.month in [10,11,12,1,2]:\n",
    "            return 'Winter'\n",
    "        elif date.month in [3,4,5,6]:\n",
    "            return 'Summer'\n",
    "        elif date.month in [7,8,9]:\n",
    "            return 'Monsoon'\n",
    "        \n",
    "    def climate_prone(location):\n",
    "        climate_prone = {'Mumbai' : 'Summer', 'Bangalore' : 'Summer','Lucknow' : 'Winter','Bareilly' : 'Winter','Chennai': 'Summer', 'Pune': 'Summer'}\n",
    "        for loc in climate_prone.keys():\n",
    "            if location == loc:\n",
    "                return climate_prone[loc]\n",
    "\n",
    "    def get_outdoor_temp(season, climate_prone):\n",
    "        temp = []\n",
    "        for i in range(len(season)):\n",
    "            if season[i] == 'Winter' and climate_prone[i] == 'Winter':\n",
    "                temp.append(random.randint(5, 18))\n",
    "            elif season[i] == 'Winter' and climate_prone[i] == 'Summer':\n",
    "                temp.append(random.randint(15, 30))\n",
    "            if season[i] == 'Summer' and climate_prone[i] == 'Summer':\n",
    "                temp.append(random.randint(30, 45))\n",
    "            elif season[i] == 'Summer' and climate_prone[i] == 'Winter':\n",
    "                temp.append(random.randint(25, 40))\n",
    "            elif season[i] == 'Monsoon':\n",
    "                temp.append(random.randint(15, 30))\n",
    "\n",
    "        return temp\n",
    "    \n",
    "    def get_indoor_temp(outdoor_temperature):\n",
    "        if outdoor_temperature >= 5 and outdoor_temperature <=10:\n",
    "             return random.randint(10, 18)\n",
    "        elif outdoor_temperature > 10 and outdoor_temperature <=20:\n",
    "             return random.randint(18, 25)\n",
    "        elif outdoor_temperature > 20 and outdoor_temperature <=30:\n",
    "             return random.randint(20, 25)\n",
    "        elif outdoor_temperature > 30 and outdoor_temperature <=40:\n",
    "             return random.randint(22, 27)\n",
    "        elif outdoor_temperature > 40:\n",
    "             return random.randint(25, 32)\n",
    "\n",
    "    def occupancy(is_weekend):\n",
    "        if is_weekend == 1:\n",
    "            return random.randint(300, 500)\n",
    "        elif is_weekend == 0:\n",
    "            return random.randint(100, 350)\n",
    "        \n",
    "    def get_airflow_rate(outdoor_temp, occupancy):\n",
    "        airflow_rate = []\n",
    "        for i in range(len(outdoor_temp)):\n",
    "            if outdoor_temp[i] >= 30 and occupancy[i] >= 400:\n",
    "                airflow_rate.append(random.randint(2000, 3000))\n",
    "            elif outdoor_temp[i] >= 30 and (occupancy[i] >= 200 and occupancy[i] <400):\n",
    "                airflow_rate.append(random.randint(1500, 2500))\n",
    "            elif outdoor_temp[i] >= 30 and (occupancy[i] < 200):\n",
    "                airflow_rate.append(random.randint(1000, 2000))\n",
    "            elif outdoor_temp[i] < 30 and occupancy[i] >= 400:\n",
    "                airflow_rate.append(random.randint(1500, 2500))\n",
    "            elif outdoor_temp[i] < 30 and (occupancy[i] >= 200 and occupancy[i] <400):\n",
    "                airflow_rate.append(random.randint(1000, 2000))\n",
    "            elif outdoor_temp[i] < 30 and (occupancy[i] < 200):\n",
    "                airflow_rate.append(random.randint(500, 1500))\n",
    "                \n",
    "        return airflow_rate\n",
    "        \n",
    "    def get_fan_speed(indoor_temp, outdoor_temp):\n",
    "        fan_speed =  []\n",
    "        for i in range(len(indoor_temp)):\n",
    "            temp_diff = abs(outdoor_temp[i] - indoor_temp[i])\n",
    "            if temp_diff >= 10:\n",
    "                fan_speed.append('High')\n",
    "            elif temp_diff >= 5 and temp_diff < 10:\n",
    "                fan_speed.append('Medium')\n",
    "            elif temp_diff <5:\n",
    "                fan_speed.append('Low')\n",
    "\n",
    "        return fan_speed\n",
    "        \n",
    "    def get_air_filter(occupancy):\n",
    "        if occupancy <= 200:\n",
    "            return 'Low'\n",
    "        elif occupancy > 200 and occupancy <= 300:\n",
    "            return 'Medium'\n",
    "        elif occupancy > 300:\n",
    "            return 'High'\n",
    "        \n",
    "    def get_air_quality(air_filter):\n",
    "        if air_filter == 'Low':\n",
    "            return random.randint(200, 250)\n",
    "        elif air_filter == 'Medium':\n",
    "            return random.randint(250, 300)\n",
    "        elif air_filter == 'High':\n",
    "            return random.randint(300, 400)\n",
    "\n",
    "    def get_power_consumption(air_filter, fan_speed):\n",
    "        power = []\n",
    "        for i in range(len(air_filter)):\n",
    "            if air_filter[i] == 'Low' and fan_speed[i] == 'Low':\n",
    "                power.append(random.randint(10, 20))\n",
    "            elif air_filter[i] == 'Low' and fan_speed[i] == 'Medium':\n",
    "                power.append(random.randint(15, 25))\n",
    "            elif air_filter[i] == 'Low' and fan_speed[i] == 'High':\n",
    "                power.append(random.randint(20, 30))\n",
    "            elif air_filter[i] == 'Medium' and fan_speed[i] == 'Low':\n",
    "                power.append(random.randint(20, 30))\n",
    "            elif air_filter[i] == 'Medium' and fan_speed[i] == 'Medium':\n",
    "                power.append(random.randint(25, 35))\n",
    "            elif air_filter[i] == 'Medium' and fan_speed[i] == 'High':\n",
    "                power.append(random.randint(30, 40))\n",
    "            elif air_filter[i] == 'High' and fan_speed[i] == 'Low':\n",
    "                power.append(random.randint(30, 40))\n",
    "            elif air_filter[i] == 'High' and fan_speed[i] == 'Medium':\n",
    "                power.append(random.randint(40, 55))\n",
    "            elif air_filter[i] == 'High' and fan_speed[i] == 'High':\n",
    "                power.append(random.randint(55, 90))\n",
    "\n",
    "        return power\n",
    "                \n",
    "    locations = {'Mumbai': ['Paladium', 'Marketcity'], 'Bangalore' : ['Marketcity'], 'Pune': ['Marketcity'], 'Chennai': ['Paladium', 'Marketcity'], 'Lucknow': ['Palassio', 'United'], 'Bareilly': ['United']}\n",
    "    for loc in locations.keys():\n",
    "        for mall in locations[loc]:\n",
    "            ## Date\n",
    "            datelist = pd.date_range(start='2021-01-01', end = '2022-12-31').tolist()\n",
    "            data = pd.DataFrame(datelist, columns=['Date'])\n",
    "            data['Date']\n",
    "\n",
    "            size = data.shape[0]\n",
    "\n",
    "            ### Location\n",
    "            data['Location'] = loc\n",
    "\n",
    "            ### Mall\n",
    "            data['Mall'] =  mall\n",
    "\n",
    "            ## Month\n",
    "            data['Month'] = data['Date'].apply(get_month)\n",
    "\n",
    "            ### System ON and OFF Command\n",
    "            data['On_Off_Cmd'] = 'ON'\n",
    "\n",
    "            ### Mode(Auto/Manual) Status\n",
    "            data['A/M_Status'] = random.choice(['Auto', 'Manual'], p = [0.6, 0.4], size = size)\n",
    "\n",
    "            ### Trip Status\n",
    "            data['Trip_Status'] = random.choice(['Normal', 'Trip'], p = [0.85, 0.15], size = size)\n",
    "            \n",
    "            ### Run Status\n",
    "            #  Equal to the On Off Commnad\n",
    "            data['Run_Status'] = random.choice(['ON', 'OFF'], p = [0.9, 0.1], size = size)\n",
    "            \n",
    "            ### Schedule Mode\n",
    "            data['Schedule_Mode'] = data['Run_Status'].apply(filter_schedule)\n",
    "\n",
    "            ### Time Schedule\n",
    "            # If the system is scheduled, it can be only scheduled based on time\n",
    "            data['Time_Schedule'] = data['Schedule_Mode']\n",
    "\n",
    "            ## Weekend\n",
    "            data['Is_Weekend'] =  data['Date'].apply(is_weekend)\n",
    "\n",
    "            ## Season\n",
    "            data['Season'] =  data['Date'].apply(get_season)\n",
    "\n",
    "            ## Climate Prone\n",
    "            data['Climate_Prone'] =  data['Location'].apply(climate_prone)\n",
    "\n",
    "            ## Outdoor Temperature\n",
    "            data['Outdoor_Temperature'] = get_outdoor_temp(data['Season'], data['Climate_Prone'])\n",
    "\n",
    "            ## Indoor Temperature\n",
    "            data['Indoor_Temperature'] = data['Outdoor_Temperature'].apply(get_indoor_temp)\n",
    "\n",
    "            ## Occupancy\n",
    "            data['Occupancy'] = data['Is_Weekend'].apply(occupancy)\n",
    "\n",
    "            ## Air Flow Rate\n",
    "\n",
    "\n",
    "            ## Fan Speed\n",
    "            data['Fan_Speed'] = get_fan_speed(data['Indoor_Temperature'], data['Outdoor_Temperature'])\n",
    "\n",
    "            ## Air Filter\n",
    "            data['Air_Filter'] = data['Occupancy'].apply(get_air_filter)\n",
    "\n",
    "            ## Air Quality\n",
    "            data['Air_Quality_PPM'] = data['Air_Filter'].apply(get_air_quality)\n",
    "\n",
    "            ## Power Consumption kwh\n",
    "            data['Power_consumption_kwh'] = get_power_consumption(data['Air_Filter'], data['Fan_Speed'])\n",
    "\n",
    "            data.to_csv(f'data/Fresh_Air_Unit/FAU_{loc}_{mall}_Assets.csv', index = False)\n",
    "\n"
   ]
  },
  {
   "cell_type": "code",
   "execution_count": 8,
   "metadata": {},
   "outputs": [],
   "source": [
    "create_data_FAU()"
   ]
  },
  {
   "cell_type": "code",
   "execution_count": 32,
   "metadata": {},
   "outputs": [
    {
     "data": {
      "text/plain": [
       "21"
      ]
     },
     "execution_count": 32,
     "metadata": {},
     "output_type": "execute_result"
    }
   ],
   "source": [
    "random.randint(17, 25)"
   ]
  },
  {
   "cell_type": "code",
   "execution_count": 38,
   "metadata": {},
   "outputs": [
    {
     "data": {
      "text/plain": [
       "'Saturday'"
      ]
     },
     "execution_count": 38,
     "metadata": {},
     "output_type": "execute_result"
    }
   ],
   "source": [
    "data['Date'][1].day_name()"
   ]
  },
  {
   "cell_type": "code",
   "execution_count": 39,
   "metadata": {},
   "outputs": [
    {
     "data": {
      "text/plain": [
       "Timestamp('2021-01-02 00:00:00')"
      ]
     },
     "execution_count": 39,
     "metadata": {},
     "output_type": "execute_result"
    }
   ],
   "source": [
    "data['Date'][1]"
   ]
  },
  {
   "cell_type": "code",
   "execution_count": null,
   "metadata": {},
   "outputs": [],
   "source": [
    "climate_prone = {'Mumbai' : 'Summer', 'Banglore' : 'Summer','Lucknow' : 'Winter','Bareilly' : 'Summer','Chennai': 'Summer', 'Pune': 'Summer'}"
   ]
  },
  {
   "cell_type": "code",
   "execution_count": 40,
   "metadata": {},
   "outputs": [],
   "source": [
    "temperature_range = {'Winter': [15, 25], 'Monsoon': [15, 30], 'Winter': [25, 40]}"
   ]
  },
  {
   "cell_type": "code",
   "execution_count": null,
   "metadata": {},
   "outputs": [],
   "source": []
  },
  {
   "cell_type": "code",
   "execution_count": 51,
   "metadata": {},
   "outputs": [
    {
     "data": {
      "text/plain": [
       "588.5815185403178"
      ]
     },
     "execution_count": 51,
     "metadata": {},
     "output_type": "execute_result"
    }
   ],
   "source": [
    "1000/1.699"
   ]
  },
  {
   "cell_type": "code",
   "execution_count": 52,
   "metadata": {},
   "outputs": [
    {
     "data": {
      "text/plain": [
       "2942.9075927015892"
      ]
     },
     "execution_count": 52,
     "metadata": {},
     "output_type": "execute_result"
    }
   ],
   "source": [
    "5000/1.699"
   ]
  },
  {
   "cell_type": "code",
   "execution_count": 1,
   "metadata": {},
   "outputs": [],
   "source": [
    "import os"
   ]
  },
  {
   "cell_type": "code",
   "execution_count": 4,
   "metadata": {},
   "outputs": [],
   "source": [
    "files = ['data/Fresh_Air_Unit/'+i for i in os.listdir('data/Fresh_Air_Unit/')]\n",
    "main_df = []\n",
    "for i in os.listdir('data/Fresh_Air_Unit'):\n",
    "    data =  pd.read_csv(f'data/Fresh_Air_Unit/{i}')\n",
    "    main_df.append(data)\n",
    "\n",
    "fau_data = pd.concat(main_df)"
   ]
  },
  {
   "cell_type": "code",
   "execution_count": 5,
   "metadata": {},
   "outputs": [
    {
     "data": {
      "text/html": [
       "<div>\n",
       "<style scoped>\n",
       "    .dataframe tbody tr th:only-of-type {\n",
       "        vertical-align: middle;\n",
       "    }\n",
       "\n",
       "    .dataframe tbody tr th {\n",
       "        vertical-align: top;\n",
       "    }\n",
       "\n",
       "    .dataframe thead th {\n",
       "        text-align: right;\n",
       "    }\n",
       "</style>\n",
       "<table border=\"1\" class=\"dataframe\">\n",
       "  <thead>\n",
       "    <tr style=\"text-align: right;\">\n",
       "      <th></th>\n",
       "      <th>Date</th>\n",
       "      <th>Location</th>\n",
       "      <th>Mall</th>\n",
       "      <th>Month</th>\n",
       "      <th>On_Off_Cmd</th>\n",
       "      <th>A/M_Status</th>\n",
       "      <th>Trip_Status</th>\n",
       "      <th>Run_Status</th>\n",
       "      <th>Schedule_Mode</th>\n",
       "      <th>Time_Schedule</th>\n",
       "      <th>Is_Weekend</th>\n",
       "      <th>Season</th>\n",
       "      <th>Climate_Prone</th>\n",
       "      <th>Outdoor_Temperature</th>\n",
       "      <th>Indoor_Temperature</th>\n",
       "      <th>Occupancy</th>\n",
       "      <th>Fan_Speed</th>\n",
       "      <th>Air_Filter</th>\n",
       "      <th>Air_Quality_PPM</th>\n",
       "      <th>Power_consumption_kwh</th>\n",
       "    </tr>\n",
       "  </thead>\n",
       "  <tbody>\n",
       "    <tr>\n",
       "      <th>0</th>\n",
       "      <td>2021-01-01</td>\n",
       "      <td>Bangalore</td>\n",
       "      <td>Marketcity</td>\n",
       "      <td>1</td>\n",
       "      <td>ON</td>\n",
       "      <td>Auto</td>\n",
       "      <td>Normal</td>\n",
       "      <td>OFF</td>\n",
       "      <td>Off</td>\n",
       "      <td>Off</td>\n",
       "      <td>0</td>\n",
       "      <td>Winter</td>\n",
       "      <td>Summer</td>\n",
       "      <td>21</td>\n",
       "      <td>21</td>\n",
       "      <td>259</td>\n",
       "      <td>Low</td>\n",
       "      <td>Medium</td>\n",
       "      <td>278</td>\n",
       "      <td>28</td>\n",
       "    </tr>\n",
       "    <tr>\n",
       "      <th>1</th>\n",
       "      <td>2021-01-02</td>\n",
       "      <td>Bangalore</td>\n",
       "      <td>Marketcity</td>\n",
       "      <td>1</td>\n",
       "      <td>ON</td>\n",
       "      <td>Auto</td>\n",
       "      <td>Normal</td>\n",
       "      <td>OFF</td>\n",
       "      <td>Off</td>\n",
       "      <td>Off</td>\n",
       "      <td>1</td>\n",
       "      <td>Winter</td>\n",
       "      <td>Summer</td>\n",
       "      <td>17</td>\n",
       "      <td>19</td>\n",
       "      <td>489</td>\n",
       "      <td>Low</td>\n",
       "      <td>High</td>\n",
       "      <td>322</td>\n",
       "      <td>32</td>\n",
       "    </tr>\n",
       "    <tr>\n",
       "      <th>2</th>\n",
       "      <td>2021-01-03</td>\n",
       "      <td>Bangalore</td>\n",
       "      <td>Marketcity</td>\n",
       "      <td>1</td>\n",
       "      <td>ON</td>\n",
       "      <td>Auto</td>\n",
       "      <td>Normal</td>\n",
       "      <td>OFF</td>\n",
       "      <td>Off</td>\n",
       "      <td>Off</td>\n",
       "      <td>1</td>\n",
       "      <td>Winter</td>\n",
       "      <td>Summer</td>\n",
       "      <td>25</td>\n",
       "      <td>23</td>\n",
       "      <td>399</td>\n",
       "      <td>Low</td>\n",
       "      <td>High</td>\n",
       "      <td>337</td>\n",
       "      <td>32</td>\n",
       "    </tr>\n",
       "    <tr>\n",
       "      <th>3</th>\n",
       "      <td>2021-01-04</td>\n",
       "      <td>Bangalore</td>\n",
       "      <td>Marketcity</td>\n",
       "      <td>1</td>\n",
       "      <td>ON</td>\n",
       "      <td>Auto</td>\n",
       "      <td>Normal</td>\n",
       "      <td>OFF</td>\n",
       "      <td>Off</td>\n",
       "      <td>Off</td>\n",
       "      <td>0</td>\n",
       "      <td>Winter</td>\n",
       "      <td>Summer</td>\n",
       "      <td>16</td>\n",
       "      <td>24</td>\n",
       "      <td>205</td>\n",
       "      <td>Medium</td>\n",
       "      <td>Medium</td>\n",
       "      <td>272</td>\n",
       "      <td>26</td>\n",
       "    </tr>\n",
       "    <tr>\n",
       "      <th>4</th>\n",
       "      <td>2021-01-05</td>\n",
       "      <td>Bangalore</td>\n",
       "      <td>Marketcity</td>\n",
       "      <td>1</td>\n",
       "      <td>ON</td>\n",
       "      <td>Auto</td>\n",
       "      <td>Normal</td>\n",
       "      <td>OFF</td>\n",
       "      <td>Off</td>\n",
       "      <td>Off</td>\n",
       "      <td>0</td>\n",
       "      <td>Winter</td>\n",
       "      <td>Summer</td>\n",
       "      <td>17</td>\n",
       "      <td>24</td>\n",
       "      <td>181</td>\n",
       "      <td>Medium</td>\n",
       "      <td>Low</td>\n",
       "      <td>211</td>\n",
       "      <td>18</td>\n",
       "    </tr>\n",
       "  </tbody>\n",
       "</table>\n",
       "</div>"
      ],
      "text/plain": [
       "         Date   Location        Mall  Month On_Off_Cmd A/M_Status Trip_Status  \\\n",
       "0  2021-01-01  Bangalore  Marketcity      1         ON       Auto      Normal   \n",
       "1  2021-01-02  Bangalore  Marketcity      1         ON       Auto      Normal   \n",
       "2  2021-01-03  Bangalore  Marketcity      1         ON       Auto      Normal   \n",
       "3  2021-01-04  Bangalore  Marketcity      1         ON       Auto      Normal   \n",
       "4  2021-01-05  Bangalore  Marketcity      1         ON       Auto      Normal   \n",
       "\n",
       "  Run_Status Schedule_Mode Time_Schedule  Is_Weekend  Season Climate_Prone  \\\n",
       "0        OFF           Off           Off           0  Winter        Summer   \n",
       "1        OFF           Off           Off           1  Winter        Summer   \n",
       "2        OFF           Off           Off           1  Winter        Summer   \n",
       "3        OFF           Off           Off           0  Winter        Summer   \n",
       "4        OFF           Off           Off           0  Winter        Summer   \n",
       "\n",
       "   Outdoor_Temperature  Indoor_Temperature  Occupancy Fan_Speed Air_Filter  \\\n",
       "0                   21                  21        259       Low     Medium   \n",
       "1                   17                  19        489       Low       High   \n",
       "2                   25                  23        399       Low       High   \n",
       "3                   16                  24        205    Medium     Medium   \n",
       "4                   17                  24        181    Medium        Low   \n",
       "\n",
       "   Air_Quality_PPM  Power_consumption_kwh  \n",
       "0              278                     28  \n",
       "1              322                     32  \n",
       "2              337                     32  \n",
       "3              272                     26  \n",
       "4              211                     18  "
      ]
     },
     "execution_count": 5,
     "metadata": {},
     "output_type": "execute_result"
    }
   ],
   "source": [
    "fau_data.head()"
   ]
  },
  {
   "cell_type": "code",
   "execution_count": 6,
   "metadata": {},
   "outputs": [
    {
     "data": {
      "text/plain": [
       "(6570, 20)"
      ]
     },
     "execution_count": 6,
     "metadata": {},
     "output_type": "execute_result"
    }
   ],
   "source": [
    "fau_data.shape"
   ]
  },
  {
   "cell_type": "code",
   "execution_count": 7,
   "metadata": {},
   "outputs": [
    {
     "data": {
      "text/plain": [
       "Chennai      1460\n",
       "Lucknow      1460\n",
       "Mumbai       1460\n",
       "Bangalore     730\n",
       "Bareilly      730\n",
       "Pune          730\n",
       "Name: Location, dtype: int64"
      ]
     },
     "execution_count": 7,
     "metadata": {},
     "output_type": "execute_result"
    }
   ],
   "source": [
    "fau_data['Location'].value_counts()"
   ]
  },
  {
   "cell_type": "code",
   "execution_count": 8,
   "metadata": {},
   "outputs": [],
   "source": [
    "fau_data.to_csv('data/DX_Unit/FAU_Data.csv', index=False)"
   ]
  },
  {
   "cell_type": "code",
   "execution_count": 1,
   "metadata": {},
   "outputs": [],
   "source": [
    "import pandas as pd"
   ]
  },
  {
   "cell_type": "code",
   "execution_count": 9,
   "metadata": {},
   "outputs": [],
   "source": [
    "df = pd.read_csv('data/Fresh_Air_Unit/FAU_Pune_Marketcity_Assets.csv')"
   ]
  },
  {
   "cell_type": "code",
   "execution_count": 10,
   "metadata": {},
   "outputs": [
    {
     "data": {
      "text/html": [
       "<div>\n",
       "<style scoped>\n",
       "    .dataframe tbody tr th:only-of-type {\n",
       "        vertical-align: middle;\n",
       "    }\n",
       "\n",
       "    .dataframe tbody tr th {\n",
       "        vertical-align: top;\n",
       "    }\n",
       "\n",
       "    .dataframe thead th {\n",
       "        text-align: right;\n",
       "    }\n",
       "</style>\n",
       "<table border=\"1\" class=\"dataframe\">\n",
       "  <thead>\n",
       "    <tr style=\"text-align: right;\">\n",
       "      <th></th>\n",
       "      <th>Date</th>\n",
       "      <th>Location</th>\n",
       "      <th>Mall</th>\n",
       "      <th>Month</th>\n",
       "      <th>On_Off_Cmd</th>\n",
       "      <th>A/M_Status</th>\n",
       "      <th>Trip_Status</th>\n",
       "      <th>Run_Status</th>\n",
       "      <th>Schedule_Mode</th>\n",
       "      <th>Time_Schedule</th>\n",
       "      <th>Is_Weekend</th>\n",
       "      <th>Season</th>\n",
       "      <th>Climate_Prone</th>\n",
       "      <th>Outdoor_Temperature</th>\n",
       "      <th>Indoor_Temperature</th>\n",
       "      <th>Occupancy</th>\n",
       "      <th>Fan_Speed</th>\n",
       "      <th>Air_Filter</th>\n",
       "      <th>Air_Quality_PPM</th>\n",
       "      <th>Power_consumption_kwh</th>\n",
       "    </tr>\n",
       "  </thead>\n",
       "  <tbody>\n",
       "    <tr>\n",
       "      <th>0</th>\n",
       "      <td>2021-01-01</td>\n",
       "      <td>Pune</td>\n",
       "      <td>Marketcity</td>\n",
       "      <td>1</td>\n",
       "      <td>ON</td>\n",
       "      <td>Auto</td>\n",
       "      <td>Normal</td>\n",
       "      <td>ON</td>\n",
       "      <td>Off</td>\n",
       "      <td>Off</td>\n",
       "      <td>0</td>\n",
       "      <td>Winter</td>\n",
       "      <td>Summer</td>\n",
       "      <td>18</td>\n",
       "      <td>20</td>\n",
       "      <td>101</td>\n",
       "      <td>Low</td>\n",
       "      <td>Low</td>\n",
       "      <td>226</td>\n",
       "      <td>18</td>\n",
       "    </tr>\n",
       "    <tr>\n",
       "      <th>1</th>\n",
       "      <td>2021-01-02</td>\n",
       "      <td>Pune</td>\n",
       "      <td>Marketcity</td>\n",
       "      <td>1</td>\n",
       "      <td>ON</td>\n",
       "      <td>Auto</td>\n",
       "      <td>Normal</td>\n",
       "      <td>ON</td>\n",
       "      <td>Off</td>\n",
       "      <td>Off</td>\n",
       "      <td>1</td>\n",
       "      <td>Winter</td>\n",
       "      <td>Summer</td>\n",
       "      <td>16</td>\n",
       "      <td>18</td>\n",
       "      <td>303</td>\n",
       "      <td>Low</td>\n",
       "      <td>High</td>\n",
       "      <td>382</td>\n",
       "      <td>38</td>\n",
       "    </tr>\n",
       "    <tr>\n",
       "      <th>2</th>\n",
       "      <td>2021-01-03</td>\n",
       "      <td>Pune</td>\n",
       "      <td>Marketcity</td>\n",
       "      <td>1</td>\n",
       "      <td>ON</td>\n",
       "      <td>Auto</td>\n",
       "      <td>Normal</td>\n",
       "      <td>ON</td>\n",
       "      <td>Off</td>\n",
       "      <td>Off</td>\n",
       "      <td>1</td>\n",
       "      <td>Winter</td>\n",
       "      <td>Summer</td>\n",
       "      <td>28</td>\n",
       "      <td>21</td>\n",
       "      <td>387</td>\n",
       "      <td>Medium</td>\n",
       "      <td>High</td>\n",
       "      <td>357</td>\n",
       "      <td>50</td>\n",
       "    </tr>\n",
       "    <tr>\n",
       "      <th>3</th>\n",
       "      <td>2021-01-04</td>\n",
       "      <td>Pune</td>\n",
       "      <td>Marketcity</td>\n",
       "      <td>1</td>\n",
       "      <td>ON</td>\n",
       "      <td>Auto</td>\n",
       "      <td>Trip</td>\n",
       "      <td>OFF</td>\n",
       "      <td>Off</td>\n",
       "      <td>Off</td>\n",
       "      <td>0</td>\n",
       "      <td>Winter</td>\n",
       "      <td>Summer</td>\n",
       "      <td>26</td>\n",
       "      <td>21</td>\n",
       "      <td>147</td>\n",
       "      <td>Medium</td>\n",
       "      <td>Low</td>\n",
       "      <td>205</td>\n",
       "      <td>24</td>\n",
       "    </tr>\n",
       "    <tr>\n",
       "      <th>4</th>\n",
       "      <td>2021-01-05</td>\n",
       "      <td>Pune</td>\n",
       "      <td>Marketcity</td>\n",
       "      <td>1</td>\n",
       "      <td>ON</td>\n",
       "      <td>Auto</td>\n",
       "      <td>Normal</td>\n",
       "      <td>ON</td>\n",
       "      <td>Off</td>\n",
       "      <td>Off</td>\n",
       "      <td>0</td>\n",
       "      <td>Winter</td>\n",
       "      <td>Summer</td>\n",
       "      <td>27</td>\n",
       "      <td>23</td>\n",
       "      <td>129</td>\n",
       "      <td>Low</td>\n",
       "      <td>Low</td>\n",
       "      <td>225</td>\n",
       "      <td>16</td>\n",
       "    </tr>\n",
       "  </tbody>\n",
       "</table>\n",
       "</div>"
      ],
      "text/plain": [
       "         Date Location        Mall  Month On_Off_Cmd A/M_Status Trip_Status  \\\n",
       "0  2021-01-01     Pune  Marketcity      1         ON       Auto      Normal   \n",
       "1  2021-01-02     Pune  Marketcity      1         ON       Auto      Normal   \n",
       "2  2021-01-03     Pune  Marketcity      1         ON       Auto      Normal   \n",
       "3  2021-01-04     Pune  Marketcity      1         ON       Auto        Trip   \n",
       "4  2021-01-05     Pune  Marketcity      1         ON       Auto      Normal   \n",
       "\n",
       "  Run_Status Schedule_Mode Time_Schedule  Is_Weekend  Season Climate_Prone  \\\n",
       "0         ON           Off           Off           0  Winter        Summer   \n",
       "1         ON           Off           Off           1  Winter        Summer   \n",
       "2         ON           Off           Off           1  Winter        Summer   \n",
       "3        OFF           Off           Off           0  Winter        Summer   \n",
       "4         ON           Off           Off           0  Winter        Summer   \n",
       "\n",
       "   Outdoor_Temperature  Indoor_Temperature  Occupancy Fan_Speed Air_Filter  \\\n",
       "0                   18                  20        101       Low        Low   \n",
       "1                   16                  18        303       Low       High   \n",
       "2                   28                  21        387    Medium       High   \n",
       "3                   26                  21        147    Medium        Low   \n",
       "4                   27                  23        129       Low        Low   \n",
       "\n",
       "   Air_Quality_PPM  Power_consumption_kwh  \n",
       "0              226                     18  \n",
       "1              382                     38  \n",
       "2              357                     50  \n",
       "3              205                     24  \n",
       "4              225                     16  "
      ]
     },
     "execution_count": 10,
     "metadata": {},
     "output_type": "execute_result"
    }
   ],
   "source": [
    "df.head()"
   ]
  },
  {
   "cell_type": "code",
   "execution_count": 12,
   "metadata": {},
   "outputs": [
    {
     "data": {
      "text/plain": [
       "ON     646\n",
       "OFF     84\n",
       "Name: Run_Status, dtype: int64"
      ]
     },
     "execution_count": 12,
     "metadata": {},
     "output_type": "execute_result"
    }
   ],
   "source": [
    "df['Run_Status'].value_counts()"
   ]
  },
  {
   "cell_type": "code",
   "execution_count": 13,
   "metadata": {},
   "outputs": [
    {
     "data": {
      "text/plain": [
       "Normal    635\n",
       "Trip       95\n",
       "Name: Trip_Status, dtype: int64"
      ]
     },
     "execution_count": 13,
     "metadata": {},
     "output_type": "execute_result"
    }
   ],
   "source": [
    "df['Trip_Status'].value_counts()"
   ]
  },
  {
   "cell_type": "code",
   "execution_count": null,
   "metadata": {},
   "outputs": [],
   "source": []
  },
  {
   "cell_type": "code",
   "execution_count": null,
   "metadata": {},
   "outputs": [],
   "source": []
  },
  {
   "cell_type": "code",
   "execution_count": null,
   "metadata": {},
   "outputs": [],
   "source": []
  },
  {
   "cell_type": "code",
   "execution_count": null,
   "metadata": {},
   "outputs": [],
   "source": []
  },
  {
   "cell_type": "code",
   "execution_count": null,
   "metadata": {},
   "outputs": [],
   "source": []
  },
  {
   "cell_type": "code",
   "execution_count": null,
   "metadata": {},
   "outputs": [],
   "source": []
  },
  {
   "cell_type": "code",
   "execution_count": null,
   "metadata": {},
   "outputs": [],
   "source": []
  },
  {
   "cell_type": "code",
   "execution_count": null,
   "metadata": {},
   "outputs": [],
   "source": []
  },
  {
   "cell_type": "code",
   "execution_count": null,
   "metadata": {},
   "outputs": [],
   "source": []
  },
  {
   "cell_type": "code",
   "execution_count": null,
   "metadata": {},
   "outputs": [],
   "source": []
  },
  {
   "cell_type": "code",
   "execution_count": null,
   "metadata": {},
   "outputs": [],
   "source": []
  },
  {
   "cell_type": "code",
   "execution_count": null,
   "metadata": {},
   "outputs": [],
   "source": []
  },
  {
   "cell_type": "code",
   "execution_count": null,
   "metadata": {},
   "outputs": [],
   "source": []
  },
  {
   "cell_type": "code",
   "execution_count": null,
   "metadata": {},
   "outputs": [],
   "source": []
  },
  {
   "cell_type": "code",
   "execution_count": null,
   "metadata": {},
   "outputs": [],
   "source": []
  },
  {
   "cell_type": "code",
   "execution_count": null,
   "metadata": {},
   "outputs": [],
   "source": []
  },
  {
   "cell_type": "code",
   "execution_count": null,
   "metadata": {},
   "outputs": [],
   "source": []
  },
  {
   "cell_type": "code",
   "execution_count": null,
   "metadata": {},
   "outputs": [],
   "source": []
  },
  {
   "cell_type": "code",
   "execution_count": null,
   "metadata": {},
   "outputs": [],
   "source": []
  },
  {
   "cell_type": "code",
   "execution_count": null,
   "metadata": {},
   "outputs": [],
   "source": []
  },
  {
   "cell_type": "code",
   "execution_count": null,
   "metadata": {},
   "outputs": [],
   "source": []
  },
  {
   "cell_type": "code",
   "execution_count": null,
   "metadata": {},
   "outputs": [],
   "source": []
  },
  {
   "cell_type": "code",
   "execution_count": null,
   "metadata": {},
   "outputs": [],
   "source": []
  },
  {
   "cell_type": "code",
   "execution_count": null,
   "metadata": {},
   "outputs": [],
   "source": []
  },
  {
   "cell_type": "code",
   "execution_count": null,
   "metadata": {},
   "outputs": [],
   "source": []
  },
  {
   "cell_type": "code",
   "execution_count": null,
   "metadata": {},
   "outputs": [],
   "source": []
  },
  {
   "cell_type": "code",
   "execution_count": null,
   "metadata": {},
   "outputs": [],
   "source": []
  },
  {
   "cell_type": "code",
   "execution_count": null,
   "metadata": {},
   "outputs": [],
   "source": []
  },
  {
   "cell_type": "code",
   "execution_count": null,
   "metadata": {},
   "outputs": [],
   "source": []
  },
  {
   "cell_type": "code",
   "execution_count": null,
   "metadata": {},
   "outputs": [],
   "source": []
  },
  {
   "cell_type": "code",
   "execution_count": null,
   "metadata": {},
   "outputs": [],
   "source": []
  },
  {
   "cell_type": "code",
   "execution_count": null,
   "metadata": {},
   "outputs": [],
   "source": []
  },
  {
   "cell_type": "code",
   "execution_count": null,
   "metadata": {},
   "outputs": [],
   "source": []
  },
  {
   "cell_type": "code",
   "execution_count": null,
   "metadata": {},
   "outputs": [],
   "source": []
  },
  {
   "cell_type": "code",
   "execution_count": null,
   "metadata": {},
   "outputs": [],
   "source": []
  },
  {
   "cell_type": "code",
   "execution_count": null,
   "metadata": {},
   "outputs": [],
   "source": []
  },
  {
   "cell_type": "code",
   "execution_count": null,
   "metadata": {},
   "outputs": [],
   "source": []
  },
  {
   "cell_type": "code",
   "execution_count": null,
   "metadata": {},
   "outputs": [],
   "source": []
  },
  {
   "cell_type": "code",
   "execution_count": null,
   "metadata": {},
   "outputs": [],
   "source": []
  },
  {
   "cell_type": "code",
   "execution_count": null,
   "metadata": {},
   "outputs": [],
   "source": []
  },
  {
   "cell_type": "code",
   "execution_count": null,
   "metadata": {},
   "outputs": [],
   "source": []
  },
  {
   "cell_type": "code",
   "execution_count": null,
   "metadata": {},
   "outputs": [],
   "source": []
  },
  {
   "cell_type": "code",
   "execution_count": null,
   "metadata": {},
   "outputs": [],
   "source": []
  },
  {
   "cell_type": "code",
   "execution_count": null,
   "metadata": {},
   "outputs": [],
   "source": []
  },
  {
   "cell_type": "code",
   "execution_count": null,
   "metadata": {},
   "outputs": [],
   "source": []
  },
  {
   "cell_type": "code",
   "execution_count": null,
   "metadata": {},
   "outputs": [],
   "source": []
  },
  {
   "cell_type": "code",
   "execution_count": null,
   "metadata": {},
   "outputs": [],
   "source": []
  },
  {
   "cell_type": "code",
   "execution_count": null,
   "metadata": {},
   "outputs": [],
   "source": []
  },
  {
   "cell_type": "code",
   "execution_count": null,
   "metadata": {},
   "outputs": [],
   "source": []
  },
  {
   "cell_type": "code",
   "execution_count": null,
   "metadata": {},
   "outputs": [],
   "source": []
  },
  {
   "cell_type": "code",
   "execution_count": null,
   "metadata": {},
   "outputs": [],
   "source": []
  },
  {
   "cell_type": "code",
   "execution_count": null,
   "metadata": {},
   "outputs": [],
   "source": []
  },
  {
   "cell_type": "code",
   "execution_count": null,
   "metadata": {},
   "outputs": [],
   "source": []
  },
  {
   "cell_type": "code",
   "execution_count": null,
   "metadata": {},
   "outputs": [],
   "source": []
  },
  {
   "cell_type": "code",
   "execution_count": null,
   "metadata": {},
   "outputs": [],
   "source": []
  },
  {
   "cell_type": "code",
   "execution_count": null,
   "metadata": {},
   "outputs": [],
   "source": []
  },
  {
   "cell_type": "code",
   "execution_count": null,
   "metadata": {},
   "outputs": [],
   "source": []
  },
  {
   "cell_type": "code",
   "execution_count": null,
   "metadata": {},
   "outputs": [],
   "source": []
  },
  {
   "cell_type": "code",
   "execution_count": null,
   "metadata": {},
   "outputs": [],
   "source": []
  },
  {
   "cell_type": "code",
   "execution_count": null,
   "metadata": {},
   "outputs": [],
   "source": []
  },
  {
   "cell_type": "code",
   "execution_count": null,
   "metadata": {},
   "outputs": [],
   "source": []
  },
  {
   "cell_type": "code",
   "execution_count": null,
   "metadata": {},
   "outputs": [],
   "source": []
  },
  {
   "cell_type": "code",
   "execution_count": null,
   "metadata": {},
   "outputs": [],
   "source": []
  },
  {
   "cell_type": "code",
   "execution_count": null,
   "metadata": {},
   "outputs": [],
   "source": []
  },
  {
   "cell_type": "code",
   "execution_count": null,
   "metadata": {},
   "outputs": [],
   "source": []
  },
  {
   "cell_type": "code",
   "execution_count": null,
   "metadata": {},
   "outputs": [],
   "source": []
  },
  {
   "cell_type": "code",
   "execution_count": null,
   "metadata": {},
   "outputs": [],
   "source": []
  },
  {
   "cell_type": "code",
   "execution_count": null,
   "metadata": {},
   "outputs": [],
   "source": []
  },
  {
   "cell_type": "code",
   "execution_count": null,
   "metadata": {},
   "outputs": [],
   "source": []
  },
  {
   "cell_type": "code",
   "execution_count": null,
   "metadata": {},
   "outputs": [],
   "source": []
  },
  {
   "cell_type": "code",
   "execution_count": null,
   "metadata": {},
   "outputs": [],
   "source": []
  },
  {
   "cell_type": "code",
   "execution_count": null,
   "metadata": {},
   "outputs": [],
   "source": []
  },
  {
   "cell_type": "code",
   "execution_count": null,
   "metadata": {},
   "outputs": [],
   "source": []
  },
  {
   "cell_type": "code",
   "execution_count": null,
   "metadata": {},
   "outputs": [],
   "source": []
  },
  {
   "cell_type": "code",
   "execution_count": null,
   "metadata": {},
   "outputs": [],
   "source": []
  },
  {
   "cell_type": "code",
   "execution_count": null,
   "metadata": {},
   "outputs": [],
   "source": []
  },
  {
   "cell_type": "code",
   "execution_count": null,
   "metadata": {},
   "outputs": [],
   "source": []
  },
  {
   "cell_type": "code",
   "execution_count": null,
   "metadata": {},
   "outputs": [],
   "source": []
  },
  {
   "cell_type": "code",
   "execution_count": null,
   "metadata": {},
   "outputs": [],
   "source": []
  },
  {
   "cell_type": "code",
   "execution_count": null,
   "metadata": {},
   "outputs": [],
   "source": []
  },
  {
   "cell_type": "code",
   "execution_count": null,
   "metadata": {},
   "outputs": [],
   "source": []
  },
  {
   "cell_type": "code",
   "execution_count": null,
   "metadata": {},
   "outputs": [],
   "source": []
  },
  {
   "cell_type": "code",
   "execution_count": null,
   "metadata": {},
   "outputs": [],
   "source": []
  },
  {
   "cell_type": "code",
   "execution_count": null,
   "metadata": {},
   "outputs": [],
   "source": []
  },
  {
   "cell_type": "code",
   "execution_count": null,
   "metadata": {},
   "outputs": [],
   "source": []
  },
  {
   "cell_type": "code",
   "execution_count": null,
   "metadata": {},
   "outputs": [],
   "source": []
  },
  {
   "cell_type": "code",
   "execution_count": null,
   "metadata": {},
   "outputs": [],
   "source": []
  },
  {
   "cell_type": "code",
   "execution_count": null,
   "metadata": {},
   "outputs": [],
   "source": []
  },
  {
   "cell_type": "code",
   "execution_count": null,
   "metadata": {},
   "outputs": [],
   "source": []
  },
  {
   "cell_type": "code",
   "execution_count": null,
   "metadata": {},
   "outputs": [],
   "source": []
  },
  {
   "cell_type": "code",
   "execution_count": null,
   "metadata": {},
   "outputs": [],
   "source": []
  },
  {
   "cell_type": "code",
   "execution_count": null,
   "metadata": {},
   "outputs": [],
   "source": []
  }
 ],
 "metadata": {
  "kernelspec": {
   "display_name": "base",
   "language": "python",
   "name": "python3"
  },
  "language_info": {
   "codemirror_mode": {
    "name": "ipython",
    "version": 3
   },
   "file_extension": ".py",
   "mimetype": "text/x-python",
   "name": "python",
   "nbconvert_exporter": "python",
   "pygments_lexer": "ipython3",
   "version": "3.8.8"
  },
  "orig_nbformat": 4
 },
 "nbformat": 4,
 "nbformat_minor": 2
}
